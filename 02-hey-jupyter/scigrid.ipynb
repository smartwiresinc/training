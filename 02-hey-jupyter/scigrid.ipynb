{
 "cells": [
  {
   "cell_type": "markdown",
   "metadata": {},
   "source": [
    "# SciGRID Exploration\n",
    "\n",
    "This notebook explores the SciGRID power system model using pandas.\n",
    "It is part of the Smart Wires Products and Solutions Analytics\n",
    "[open training course](https://github.com/smartwiresinc/training)."
   ]
  },
  {
   "cell_type": "markdown",
   "metadata": {},
   "source": [
    "## 1. Import pandas\n",
    "\n",
    "Load the Python Data Analysis library with the name `pd`"
   ]
  },
  {
   "cell_type": "code",
   "execution_count": 217,
   "metadata": {
    "collapsed": true
   },
   "outputs": [],
   "source": [
    "import pandas as pd"
   ]
  },
  {
   "cell_type": "markdown",
   "metadata": {},
   "source": [
    "## 2. Load and display data sets\n",
    "\n",
    "### Vertices, or terminal nodes (substations, generators)"
   ]
  },
  {
   "cell_type": "code",
   "execution_count": 218,
   "metadata": {
    "collapsed": false,
    "scrolled": true
   },
   "outputs": [
    {
     "data": {
      "text/html": [
       "<div>\n",
       "<table border=\"1\" class=\"dataframe\">\n",
       "  <thead>\n",
       "    <tr style=\"text-align: right;\">\n",
       "      <th></th>\n",
       "      <th>v_id</th>\n",
       "      <th>lon</th>\n",
       "      <th>lat</th>\n",
       "      <th>typ</th>\n",
       "      <th>voltage</th>\n",
       "      <th>frequency</th>\n",
       "      <th>name</th>\n",
       "      <th>operator</th>\n",
       "      <th>ref</th>\n",
       "      <th>wkt_srid_4326</th>\n",
       "    </tr>\n",
       "  </thead>\n",
       "  <tbody>\n",
       "    <tr>\n",
       "      <th>0</th>\n",
       "      <td>1</td>\n",
       "      <td>9.522576</td>\n",
       "      <td>52.360409</td>\n",
       "      <td>substation</td>\n",
       "      <td>220000;110000</td>\n",
       "      <td>50</td>\n",
       "      <td>Hannover/West</td>\n",
       "      <td>TenneT;EON_Netz</td>\n",
       "      <td>NaN</td>\n",
       "      <td>SRID=4326;POINT(9.52257601112577 52.3604090734...</td>\n",
       "    </tr>\n",
       "    <tr>\n",
       "      <th>1</th>\n",
       "      <td>2</td>\n",
       "      <td>9.113210</td>\n",
       "      <td>52.543853</td>\n",
       "      <td>substation</td>\n",
       "      <td>220000</td>\n",
       "      <td>50</td>\n",
       "      <td>Umspannwerk Kraftwerk Robert Frank</td>\n",
       "      <td>TenneT</td>\n",
       "      <td>NaN</td>\n",
       "      <td>SRID=4326;POINT(9.11321011483187 52.5438533448...</td>\n",
       "    </tr>\n",
       "    <tr>\n",
       "      <th>2</th>\n",
       "      <td>3</td>\n",
       "      <td>9.389745</td>\n",
       "      <td>52.026313</td>\n",
       "      <td>substation</td>\n",
       "      <td>380000;110000</td>\n",
       "      <td>50</td>\n",
       "      <td>UW Grohnde 380 kV / 110 kV</td>\n",
       "      <td>TenneT</td>\n",
       "      <td>NaN</td>\n",
       "      <td>SRID=4326;POINT(9.38974515063535 52.0263130791...</td>\n",
       "    </tr>\n",
       "    <tr>\n",
       "      <th>3</th>\n",
       "      <td>4</td>\n",
       "      <td>9.125266</td>\n",
       "      <td>52.538264</td>\n",
       "      <td>substation</td>\n",
       "      <td>380000;220000</td>\n",
       "      <td>50</td>\n",
       "      <td>Landesbergen</td>\n",
       "      <td>TenneT TSO GmbH</td>\n",
       "      <td>NaN</td>\n",
       "      <td>SRID=4326;POINT(9.12526574244048 52.5382641233...</td>\n",
       "    </tr>\n",
       "    <tr>\n",
       "      <th>4</th>\n",
       "      <td>5</td>\n",
       "      <td>10.366275</td>\n",
       "      <td>52.284647</td>\n",
       "      <td>substation</td>\n",
       "      <td>380000;220000</td>\n",
       "      <td>50</td>\n",
       "      <td>Wahle</td>\n",
       "      <td>TenneT</td>\n",
       "      <td>NaN</td>\n",
       "      <td>SRID=4326;POINT(10.366274939217 52.2846467643429)</td>\n",
       "    </tr>\n",
       "  </tbody>\n",
       "</table>\n",
       "</div>"
      ],
      "text/plain": [
       "   v_id        lon        lat         typ        voltage frequency  \\\n",
       "0     1   9.522576  52.360409  substation  220000;110000        50   \n",
       "1     2   9.113210  52.543853  substation         220000        50   \n",
       "2     3   9.389745  52.026313  substation  380000;110000        50   \n",
       "3     4   9.125266  52.538264  substation  380000;220000        50   \n",
       "4     5  10.366275  52.284647  substation  380000;220000        50   \n",
       "\n",
       "                                 name         operator  ref  \\\n",
       "0                       Hannover/West  TenneT;EON_Netz  NaN   \n",
       "1  Umspannwerk Kraftwerk Robert Frank           TenneT  NaN   \n",
       "2          UW Grohnde 380 kV / 110 kV           TenneT  NaN   \n",
       "3                        Landesbergen  TenneT TSO GmbH  NaN   \n",
       "4                               Wahle           TenneT  NaN   \n",
       "\n",
       "                                       wkt_srid_4326  \n",
       "0  SRID=4326;POINT(9.52257601112577 52.3604090734...  \n",
       "1  SRID=4326;POINT(9.11321011483187 52.5438533448...  \n",
       "2  SRID=4326;POINT(9.38974515063535 52.0263130791...  \n",
       "3  SRID=4326;POINT(9.12526574244048 52.5382641233...  \n",
       "4  SRID=4326;POINT(10.366274939217 52.2846467643429)  "
      ]
     },
     "execution_count": 218,
     "metadata": {},
     "output_type": "execute_result"
    }
   ],
   "source": [
    "terminals = pd.read_csv('vertices_de_power_160718.csv', quotechar=\"'\")\n",
    "terminals.head()"
   ]
  },
  {
   "cell_type": "markdown",
   "metadata": {},
   "source": [
    "### Links, or branches connecting terminal nodes (transmission lines)"
   ]
  },
  {
   "cell_type": "code",
   "execution_count": 219,
   "metadata": {
    "collapsed": false,
    "scrolled": true
   },
   "outputs": [
    {
     "data": {
      "text/html": [
       "<div>\n",
       "<table border=\"1\" class=\"dataframe\">\n",
       "  <thead>\n",
       "    <tr style=\"text-align: right;\">\n",
       "      <th></th>\n",
       "      <th>l_id</th>\n",
       "      <th>v_id_1</th>\n",
       "      <th>v_id_2</th>\n",
       "      <th>voltage</th>\n",
       "      <th>cables</th>\n",
       "      <th>wires</th>\n",
       "      <th>frequency</th>\n",
       "      <th>name</th>\n",
       "      <th>operator</th>\n",
       "      <th>ref</th>\n",
       "      <th>length_m</th>\n",
       "      <th>r_ohmkm</th>\n",
       "      <th>x_ohmkm</th>\n",
       "      <th>c_nfkm</th>\n",
       "      <th>i_th_max_a</th>\n",
       "      <th>from_relation</th>\n",
       "      <th>wkt_srid_4326</th>\n",
       "    </tr>\n",
       "  </thead>\n",
       "  <tbody>\n",
       "    <tr>\n",
       "      <th>0</th>\n",
       "      <td>1</td>\n",
       "      <td>1</td>\n",
       "      <td>2</td>\n",
       "      <td>220000</td>\n",
       "      <td>3.0</td>\n",
       "      <td>2.0</td>\n",
       "      <td>50.0</td>\n",
       "      <td>Leitung 2016</td>\n",
       "      <td>TenneT</td>\n",
       "      <td>2016</td>\n",
       "      <td>43396</td>\n",
       "      <td>0.0800</td>\n",
       "      <td>0.320</td>\n",
       "      <td>11.5</td>\n",
       "      <td>1.3</td>\n",
       "      <td>67129</td>\n",
       "      <td>SRID=4326;LINESTRING(9.52257601112577 52.36040...</td>\n",
       "    </tr>\n",
       "    <tr>\n",
       "      <th>1</th>\n",
       "      <td>2</td>\n",
       "      <td>3</td>\n",
       "      <td>4</td>\n",
       "      <td>380000</td>\n",
       "      <td>3.0</td>\n",
       "      <td>4.0</td>\n",
       "      <td>50.0</td>\n",
       "      <td>Leitung 3011</td>\n",
       "      <td>TenneT</td>\n",
       "      <td>NaN</td>\n",
       "      <td>72714</td>\n",
       "      <td>0.0250</td>\n",
       "      <td>0.250</td>\n",
       "      <td>13.7</td>\n",
       "      <td>2.6</td>\n",
       "      <td>67131</td>\n",
       "      <td>SRID=4326;LINESTRING(9.38974515063535 52.02631...</td>\n",
       "    </tr>\n",
       "    <tr>\n",
       "      <th>2</th>\n",
       "      <td>3</td>\n",
       "      <td>5</td>\n",
       "      <td>6</td>\n",
       "      <td>220000</td>\n",
       "      <td>3.0</td>\n",
       "      <td>2.0</td>\n",
       "      <td>50.0</td>\n",
       "      <td>Leitung 2024</td>\n",
       "      <td>TenneT</td>\n",
       "      <td>1</td>\n",
       "      <td>33954</td>\n",
       "      <td>0.0800</td>\n",
       "      <td>0.320</td>\n",
       "      <td>11.5</td>\n",
       "      <td>1.3</td>\n",
       "      <td>67151</td>\n",
       "      <td>SRID=4326;LINESTRING(10.366274939217 52.284646...</td>\n",
       "    </tr>\n",
       "    <tr>\n",
       "      <th>3</th>\n",
       "      <td>4</td>\n",
       "      <td>7</td>\n",
       "      <td>5</td>\n",
       "      <td>380000</td>\n",
       "      <td>3.0</td>\n",
       "      <td>4.0</td>\n",
       "      <td>50.0</td>\n",
       "      <td>Leitung 3026</td>\n",
       "      <td>TenneT</td>\n",
       "      <td>3026</td>\n",
       "      <td>33483</td>\n",
       "      <td>0.0250</td>\n",
       "      <td>0.250</td>\n",
       "      <td>13.7</td>\n",
       "      <td>2.6</td>\n",
       "      <td>67153</td>\n",
       "      <td>SRID=4326;LINESTRING(9.9171797569037 52.278168...</td>\n",
       "    </tr>\n",
       "    <tr>\n",
       "      <th>4</th>\n",
       "      <td>5</td>\n",
       "      <td>8</td>\n",
       "      <td>9</td>\n",
       "      <td>380000</td>\n",
       "      <td>6.0</td>\n",
       "      <td>4.0</td>\n",
       "      <td>50.0</td>\n",
       "      <td>KKW Krümmel - UW Lüneburg</td>\n",
       "      <td>TenneT</td>\n",
       "      <td>NaN</td>\n",
       "      <td>28172</td>\n",
       "      <td>0.0125</td>\n",
       "      <td>0.125</td>\n",
       "      <td>27.4</td>\n",
       "      <td>5.2</td>\n",
       "      <td>67585</td>\n",
       "      <td>SRID=4326;LINESTRING(10.4149924241538 53.41260...</td>\n",
       "    </tr>\n",
       "  </tbody>\n",
       "</table>\n",
       "</div>"
      ],
      "text/plain": [
       "   l_id  v_id_1  v_id_2  voltage  cables  wires  frequency  \\\n",
       "0     1       1       2   220000     3.0    2.0       50.0   \n",
       "1     2       3       4   380000     3.0    4.0       50.0   \n",
       "2     3       5       6   220000     3.0    2.0       50.0   \n",
       "3     4       7       5   380000     3.0    4.0       50.0   \n",
       "4     5       8       9   380000     6.0    4.0       50.0   \n",
       "\n",
       "                        name operator   ref  length_m  r_ohmkm  x_ohmkm  \\\n",
       "0               Leitung 2016   TenneT  2016     43396   0.0800    0.320   \n",
       "1               Leitung 3011   TenneT   NaN     72714   0.0250    0.250   \n",
       "2               Leitung 2024   TenneT     1     33954   0.0800    0.320   \n",
       "3               Leitung 3026   TenneT  3026     33483   0.0250    0.250   \n",
       "4  KKW Krümmel - UW Lüneburg   TenneT   NaN     28172   0.0125    0.125   \n",
       "\n",
       "   c_nfkm  i_th_max_a  from_relation  \\\n",
       "0    11.5         1.3          67129   \n",
       "1    13.7         2.6          67131   \n",
       "2    11.5         1.3          67151   \n",
       "3    13.7         2.6          67153   \n",
       "4    27.4         5.2          67585   \n",
       "\n",
       "                                       wkt_srid_4326  \n",
       "0  SRID=4326;LINESTRING(9.52257601112577 52.36040...  \n",
       "1  SRID=4326;LINESTRING(9.38974515063535 52.02631...  \n",
       "2  SRID=4326;LINESTRING(10.366274939217 52.284646...  \n",
       "3  SRID=4326;LINESTRING(9.9171797569037 52.278168...  \n",
       "4  SRID=4326;LINESTRING(10.4149924241538 53.41260...  "
      ]
     },
     "execution_count": 219,
     "metadata": {},
     "output_type": "execute_result"
    }
   ],
   "source": [
    "branches = pd.read_csv('links_de_power_160718.csv', quotechar=\"'\")\n",
    "branches.head()"
   ]
  },
  {
   "cell_type": "markdown",
   "metadata": {},
   "source": [
    "## 3. Try Jupyter"
   ]
  },
  {
   "cell_type": "markdown",
   "metadata": {},
   "source": [
    "Create a dataframe with substations only."
   ]
  },
  {
   "cell_type": "code",
   "execution_count": 220,
   "metadata": {
    "collapsed": false
   },
   "outputs": [
    {
     "data": {
      "text/html": [
       "<div>\n",
       "<table border=\"1\" class=\"dataframe\">\n",
       "  <thead>\n",
       "    <tr style=\"text-align: right;\">\n",
       "      <th></th>\n",
       "      <th>v_id</th>\n",
       "      <th>lon</th>\n",
       "      <th>lat</th>\n",
       "      <th>typ</th>\n",
       "      <th>voltage</th>\n",
       "      <th>frequency</th>\n",
       "      <th>name</th>\n",
       "      <th>operator</th>\n",
       "      <th>ref</th>\n",
       "      <th>wkt_srid_4326</th>\n",
       "    </tr>\n",
       "  </thead>\n",
       "  <tbody>\n",
       "    <tr>\n",
       "      <th>0</th>\n",
       "      <td>1</td>\n",
       "      <td>9.522576</td>\n",
       "      <td>52.360409</td>\n",
       "      <td>substation</td>\n",
       "      <td>220000;110000</td>\n",
       "      <td>50</td>\n",
       "      <td>Hannover/West</td>\n",
       "      <td>TenneT;EON_Netz</td>\n",
       "      <td>NaN</td>\n",
       "      <td>SRID=4326;POINT(9.52257601112577 52.3604090734...</td>\n",
       "    </tr>\n",
       "    <tr>\n",
       "      <th>1</th>\n",
       "      <td>2</td>\n",
       "      <td>9.113210</td>\n",
       "      <td>52.543853</td>\n",
       "      <td>substation</td>\n",
       "      <td>220000</td>\n",
       "      <td>50</td>\n",
       "      <td>Umspannwerk Kraftwerk Robert Frank</td>\n",
       "      <td>TenneT</td>\n",
       "      <td>NaN</td>\n",
       "      <td>SRID=4326;POINT(9.11321011483187 52.5438533448...</td>\n",
       "    </tr>\n",
       "    <tr>\n",
       "      <th>2</th>\n",
       "      <td>3</td>\n",
       "      <td>9.389745</td>\n",
       "      <td>52.026313</td>\n",
       "      <td>substation</td>\n",
       "      <td>380000;110000</td>\n",
       "      <td>50</td>\n",
       "      <td>UW Grohnde 380 kV / 110 kV</td>\n",
       "      <td>TenneT</td>\n",
       "      <td>NaN</td>\n",
       "      <td>SRID=4326;POINT(9.38974515063535 52.0263130791...</td>\n",
       "    </tr>\n",
       "    <tr>\n",
       "      <th>3</th>\n",
       "      <td>4</td>\n",
       "      <td>9.125266</td>\n",
       "      <td>52.538264</td>\n",
       "      <td>substation</td>\n",
       "      <td>380000;220000</td>\n",
       "      <td>50</td>\n",
       "      <td>Landesbergen</td>\n",
       "      <td>TenneT TSO GmbH</td>\n",
       "      <td>NaN</td>\n",
       "      <td>SRID=4326;POINT(9.12526574244048 52.5382641233...</td>\n",
       "    </tr>\n",
       "    <tr>\n",
       "      <th>4</th>\n",
       "      <td>5</td>\n",
       "      <td>10.366275</td>\n",
       "      <td>52.284647</td>\n",
       "      <td>substation</td>\n",
       "      <td>380000;220000</td>\n",
       "      <td>50</td>\n",
       "      <td>Wahle</td>\n",
       "      <td>TenneT</td>\n",
       "      <td>NaN</td>\n",
       "      <td>SRID=4326;POINT(10.366274939217 52.2846467643429)</td>\n",
       "    </tr>\n",
       "  </tbody>\n",
       "</table>\n",
       "</div>"
      ],
      "text/plain": [
       "   v_id        lon        lat         typ        voltage frequency  \\\n",
       "0     1   9.522576  52.360409  substation  220000;110000        50   \n",
       "1     2   9.113210  52.543853  substation         220000        50   \n",
       "2     3   9.389745  52.026313  substation  380000;110000        50   \n",
       "3     4   9.125266  52.538264  substation  380000;220000        50   \n",
       "4     5  10.366275  52.284647  substation  380000;220000        50   \n",
       "\n",
       "                                 name         operator  ref  \\\n",
       "0                       Hannover/West  TenneT;EON_Netz  NaN   \n",
       "1  Umspannwerk Kraftwerk Robert Frank           TenneT  NaN   \n",
       "2          UW Grohnde 380 kV / 110 kV           TenneT  NaN   \n",
       "3                        Landesbergen  TenneT TSO GmbH  NaN   \n",
       "4                               Wahle           TenneT  NaN   \n",
       "\n",
       "                                       wkt_srid_4326  \n",
       "0  SRID=4326;POINT(9.52257601112577 52.3604090734...  \n",
       "1  SRID=4326;POINT(9.11321011483187 52.5438533448...  \n",
       "2  SRID=4326;POINT(9.38974515063535 52.0263130791...  \n",
       "3  SRID=4326;POINT(9.12526574244048 52.5382641233...  \n",
       "4  SRID=4326;POINT(10.366274939217 52.2846467643429)  "
      ]
     },
     "execution_count": 220,
     "metadata": {},
     "output_type": "execute_result"
    }
   ],
   "source": [
    "substations = terminals[terminals[\"typ\"] == \"substation\"]\n",
    "substations.head()"
   ]
  },
  {
   "cell_type": "markdown",
   "metadata": {},
   "source": [
    "The number of substations is"
   ]
  },
  {
   "cell_type": "code",
   "execution_count": 221,
   "metadata": {
    "collapsed": false
   },
   "outputs": [
    {
     "data": {
      "text/plain": [
       "437"
      ]
     },
     "execution_count": 221,
     "metadata": {},
     "output_type": "execute_result"
    }
   ],
   "source": [
    "substations.shape[0]"
   ]
  },
  {
   "cell_type": "markdown",
   "metadata": {},
   "source": [
    "Number of substations per voltage level"
   ]
  },
  {
   "cell_type": "code",
   "execution_count": 222,
   "metadata": {
    "collapsed": false
   },
   "outputs": [
    {
     "data": {
      "text/plain": [
       "voltage\n",
       "110000     3\n",
       "150000     2\n",
       "220000    40\n",
       "380000    43\n",
       "400000     4\n",
       "dtype: int64"
      ]
     },
     "execution_count": 222,
     "metadata": {},
     "output_type": "execute_result"
    }
   ],
   "source": [
    "A = substations.groupby(by='voltage').size() # A is a Series element with number of substations per voltage level\n",
    "A = A[A.index.str.contains(';') == False]\n",
    "A = A[A.index.str.contains(',') == False]\n",
    "A"
   ]
  },
  {
   "cell_type": "markdown",
   "metadata": {},
   "source": [
    "The most common voltage level is"
   ]
  },
  {
   "cell_type": "code",
   "execution_count": 223,
   "metadata": {
    "collapsed": false
   },
   "outputs": [
    {
     "data": {
      "text/plain": [
       "voltage\n",
       "380000    43\n",
       "dtype: int64"
      ]
     },
     "execution_count": 223,
     "metadata": {},
     "output_type": "execute_result"
    }
   ],
   "source": [
    "A.loc[A == A.max()]"
   ]
  },
  {
   "cell_type": "markdown",
   "metadata": {},
   "source": [
    "The number of unique operators is"
   ]
  },
  {
   "cell_type": "code",
   "execution_count": 224,
   "metadata": {
    "collapsed": false,
    "scrolled": true
   },
   "outputs": [
    {
     "data": {
      "text/plain": [
       "121"
      ]
     },
     "execution_count": 224,
     "metadata": {},
     "output_type": "execute_result"
    }
   ],
   "source": [
    "len(pd.merge(branches,terminals,how='outer',on='operator').groupby(by='operator'))"
   ]
  },
  {
   "cell_type": "markdown",
   "metadata": {},
   "source": [
    "Using an alternative method, the number of unique operators can be calculated as"
   ]
  },
  {
   "cell_type": "code",
   "execution_count": 225,
   "metadata": {
    "collapsed": false
   },
   "outputs": [
    {
     "data": {
      "text/plain": [
       "121"
      ]
     },
     "execution_count": 225,
     "metadata": {},
     "output_type": "execute_result"
    }
   ],
   "source": [
    "operators = pd.concat([branches.operator,terminals.operator])\n",
    "operators = operators.groupby(operators)\n",
    "len(operators)"
   ]
  },
  {
   "cell_type": "markdown",
   "metadata": {},
   "source": [
    "The number of transmission lines longer than 10km is "
   ]
  },
  {
   "cell_type": "code",
   "execution_count": 226,
   "metadata": {
    "collapsed": false
   },
   "outputs": [
    {
     "data": {
      "text/plain": [
       "633"
      ]
     },
     "execution_count": 226,
     "metadata": {},
     "output_type": "execute_result"
    }
   ],
   "source": [
    "branches[branches.length_m > 10000].shape[0]"
   ]
  },
  {
   "cell_type": "code",
   "execution_count": 227,
   "metadata": {
    "collapsed": false
   },
   "outputs": [],
   "source": [
    "# C is a Series element with the number of lines per resistance/km value\n",
    "C = branches.groupby(by='r_ohmkm').size().sort_values(ascending=False) "
   ]
  },
  {
   "cell_type": "markdown",
   "metadata": {},
   "source": [
    "The two most common resistance/km values are"
   ]
  },
  {
   "cell_type": "code",
   "execution_count": 228,
   "metadata": {
    "collapsed": false
   },
   "outputs": [
    {
     "data": {
      "text/plain": [
       "r_ohmkm\n",
       "0.025    226\n",
       "0.080    211\n",
       "dtype: int64"
      ]
     },
     "execution_count": 228,
     "metadata": {},
     "output_type": "execute_result"
    }
   ],
   "source": [
    "C.head(2)"
   ]
  },
  {
   "cell_type": "markdown",
   "metadata": {},
   "source": [
    "Adding a column with all line's total resistance"
   ]
  },
  {
   "cell_type": "code",
   "execution_count": 229,
   "metadata": {
    "collapsed": true
   },
   "outputs": [],
   "source": [
    "branches['total_r'] = branches['r_ohmkm'] * branches['length_m'] / 1000"
   ]
  },
  {
   "cell_type": "markdown",
   "metadata": {},
   "source": [
    "The line with the maximum total resistance is"
   ]
  },
  {
   "cell_type": "code",
   "execution_count": 230,
   "metadata": {
    "collapsed": false
   },
   "outputs": [
    {
     "data": {
      "text/html": [
       "<div>\n",
       "<table border=\"1\" class=\"dataframe\">\n",
       "  <thead>\n",
       "    <tr style=\"text-align: right;\">\n",
       "      <th></th>\n",
       "      <th>l_id</th>\n",
       "      <th>v_id_1</th>\n",
       "      <th>v_id_2</th>\n",
       "      <th>voltage</th>\n",
       "      <th>cables</th>\n",
       "      <th>wires</th>\n",
       "      <th>frequency</th>\n",
       "      <th>name</th>\n",
       "      <th>operator</th>\n",
       "      <th>ref</th>\n",
       "      <th>length_m</th>\n",
       "      <th>r_ohmkm</th>\n",
       "      <th>x_ohmkm</th>\n",
       "      <th>c_nfkm</th>\n",
       "      <th>i_th_max_a</th>\n",
       "      <th>from_relation</th>\n",
       "      <th>wkt_srid_4326</th>\n",
       "      <th>total_r</th>\n",
       "    </tr>\n",
       "  </thead>\n",
       "  <tbody>\n",
       "    <tr>\n",
       "      <th>495</th>\n",
       "      <td>496</td>\n",
       "      <td>282</td>\n",
       "      <td>342</td>\n",
       "      <td>220000</td>\n",
       "      <td>3.0</td>\n",
       "      <td>1.0</td>\n",
       "      <td>NaN</td>\n",
       "      <td>NaN</td>\n",
       "      <td>50Hertz</td>\n",
       "      <td>358</td>\n",
       "      <td>158679</td>\n",
       "      <td>0.16</td>\n",
       "      <td>0.64</td>\n",
       "      <td>5.75</td>\n",
       "      <td>0.65</td>\n",
       "      <td>3739954</td>\n",
       "      <td>SRID=4326;LINESTRING(12.518222136544 51.157072...</td>\n",
       "      <td>25.38864</td>\n",
       "    </tr>\n",
       "  </tbody>\n",
       "</table>\n",
       "</div>"
      ],
      "text/plain": [
       "     l_id  v_id_1  v_id_2  voltage  cables  wires  frequency name operator  \\\n",
       "495   496     282     342   220000     3.0    1.0        NaN  NaN  50Hertz   \n",
       "\n",
       "     ref  length_m  r_ohmkm  x_ohmkm  c_nfkm  i_th_max_a  from_relation  \\\n",
       "495  358    158679     0.16     0.64    5.75        0.65        3739954   \n",
       "\n",
       "                                         wkt_srid_4326   total_r  \n",
       "495  SRID=4326;LINESTRING(12.518222136544 51.157072...  25.38864  "
      ]
     },
     "execution_count": 230,
     "metadata": {},
     "output_type": "execute_result"
    }
   ],
   "source": [
    "branches.sort_values(ascending = False, by = 'total_r').head(1)"
   ]
  },
  {
   "cell_type": "markdown",
   "metadata": {},
   "source": [
    "Adding a column with X/R ratios"
   ]
  },
  {
   "cell_type": "code",
   "execution_count": 231,
   "metadata": {
    "collapsed": true
   },
   "outputs": [],
   "source": [
    "branches['XtoR'] = branches['x_ohmkm'] / branches['r_ohmkm']"
   ]
  },
  {
   "cell_type": "markdown",
   "metadata": {},
   "source": [
    "The lines with the 10 largest X/R ratio are given by"
   ]
  },
  {
   "cell_type": "code",
   "execution_count": 232,
   "metadata": {
    "collapsed": false
   },
   "outputs": [
    {
     "name": "stdout",
     "output_type": "stream",
     "text": [
      "0.002572298049926758 seconds\n"
     ]
    },
    {
     "data": {
      "text/html": [
       "<div>\n",
       "<table border=\"1\" class=\"dataframe\">\n",
       "  <thead>\n",
       "    <tr style=\"text-align: right;\">\n",
       "      <th></th>\n",
       "      <th>l_id</th>\n",
       "      <th>v_id_1</th>\n",
       "      <th>v_id_2</th>\n",
       "      <th>voltage</th>\n",
       "      <th>cables</th>\n",
       "      <th>wires</th>\n",
       "      <th>frequency</th>\n",
       "      <th>name</th>\n",
       "      <th>operator</th>\n",
       "      <th>ref</th>\n",
       "      <th>length_m</th>\n",
       "      <th>r_ohmkm</th>\n",
       "      <th>x_ohmkm</th>\n",
       "      <th>c_nfkm</th>\n",
       "      <th>i_th_max_a</th>\n",
       "      <th>from_relation</th>\n",
       "      <th>wkt_srid_4326</th>\n",
       "      <th>total_r</th>\n",
       "      <th>XtoR</th>\n",
       "    </tr>\n",
       "  </thead>\n",
       "  <tbody>\n",
       "    <tr>\n",
       "      <th>518</th>\n",
       "      <td>519</td>\n",
       "      <td>15</td>\n",
       "      <td>337</td>\n",
       "      <td>380000</td>\n",
       "      <td>9.0</td>\n",
       "      <td>4.0</td>\n",
       "      <td>NaN</td>\n",
       "      <td>NaN</td>\n",
       "      <td>NaN</td>\n",
       "      <td>443;444;446</td>\n",
       "      <td>61219</td>\n",
       "      <td>0.008333</td>\n",
       "      <td>0.083333</td>\n",
       "      <td>41.100</td>\n",
       "      <td>7.80</td>\n",
       "      <td>3749855</td>\n",
       "      <td>SRID=4326;LINESTRING(11.868156362746 48.206802...</td>\n",
       "      <td>0.510138</td>\n",
       "      <td>10.00036</td>\n",
       "    </tr>\n",
       "    <tr>\n",
       "      <th>835</th>\n",
       "      <td>836</td>\n",
       "      <td>520</td>\n",
       "      <td>521</td>\n",
       "      <td>380000</td>\n",
       "      <td>3.0</td>\n",
       "      <td>3.0</td>\n",
       "      <td>50.0</td>\n",
       "      <td>NaN</td>\n",
       "      <td>50Hertz</td>\n",
       "      <td>578</td>\n",
       "      <td>17414</td>\n",
       "      <td>0.033333</td>\n",
       "      <td>0.333333</td>\n",
       "      <td>10.275</td>\n",
       "      <td>1.95</td>\n",
       "      <td>5308496</td>\n",
       "      <td>SRID=4326;LINESTRING(12.881244953781 50.518645...</td>\n",
       "      <td>0.580461</td>\n",
       "      <td>10.00009</td>\n",
       "    </tr>\n",
       "    <tr>\n",
       "      <th>465</th>\n",
       "      <td>466</td>\n",
       "      <td>279</td>\n",
       "      <td>65</td>\n",
       "      <td>380000</td>\n",
       "      <td>3.0</td>\n",
       "      <td>3.0</td>\n",
       "      <td>50.0</td>\n",
       "      <td>NaN</td>\n",
       "      <td>NaN</td>\n",
       "      <td>445</td>\n",
       "      <td>81644</td>\n",
       "      <td>0.033333</td>\n",
       "      <td>0.333333</td>\n",
       "      <td>10.275</td>\n",
       "      <td>1.95</td>\n",
       "      <td>3730415</td>\n",
       "      <td>SRID=4326;LINESTRING(12.8139099558581 50.85791...</td>\n",
       "      <td>2.721439</td>\n",
       "      <td>10.00009</td>\n",
       "    </tr>\n",
       "    <tr>\n",
       "      <th>443</th>\n",
       "      <td>444</td>\n",
       "      <td>307</td>\n",
       "      <td>311</td>\n",
       "      <td>380000</td>\n",
       "      <td>3.0</td>\n",
       "      <td>3.0</td>\n",
       "      <td>50.0</td>\n",
       "      <td>Kupferzell - Großgartach</td>\n",
       "      <td>NaN</td>\n",
       "      <td>NaN</td>\n",
       "      <td>47743</td>\n",
       "      <td>0.033333</td>\n",
       "      <td>0.333333</td>\n",
       "      <td>10.275</td>\n",
       "      <td>1.95</td>\n",
       "      <td>3694016</td>\n",
       "      <td>SRID=4326;LINESTRING(9.15135403252636 49.14338...</td>\n",
       "      <td>1.591417</td>\n",
       "      <td>10.00009</td>\n",
       "    </tr>\n",
       "    <tr>\n",
       "      <th>73</th>\n",
       "      <td>74</td>\n",
       "      <td>10</td>\n",
       "      <td>74</td>\n",
       "      <td>380000</td>\n",
       "      <td>3.0</td>\n",
       "      <td>3.0</td>\n",
       "      <td>50.0</td>\n",
       "      <td>521</td>\n",
       "      <td>50Hertz</td>\n",
       "      <td>521</td>\n",
       "      <td>130600</td>\n",
       "      <td>0.033333</td>\n",
       "      <td>0.333333</td>\n",
       "      <td>10.275</td>\n",
       "      <td>1.95</td>\n",
       "      <td>918563</td>\n",
       "      <td>SRID=4326;LINESTRING(12.9416466491702 52.56211...</td>\n",
       "      <td>4.353290</td>\n",
       "      <td>10.00009</td>\n",
       "    </tr>\n",
       "    <tr>\n",
       "      <th>71</th>\n",
       "      <td>72</td>\n",
       "      <td>18</td>\n",
       "      <td>40</td>\n",
       "      <td>380000</td>\n",
       "      <td>3.0</td>\n",
       "      <td>3.0</td>\n",
       "      <td>50.0</td>\n",
       "      <td>509</td>\n",
       "      <td>50Hertz</td>\n",
       "      <td>509</td>\n",
       "      <td>56402</td>\n",
       "      <td>0.033333</td>\n",
       "      <td>0.333333</td>\n",
       "      <td>10.275</td>\n",
       "      <td>1.95</td>\n",
       "      <td>912407</td>\n",
       "      <td>SRID=4326;LINESTRING(13.6834769799404 54.13909...</td>\n",
       "      <td>1.880048</td>\n",
       "      <td>10.00009</td>\n",
       "    </tr>\n",
       "    <tr>\n",
       "      <th>70</th>\n",
       "      <td>71</td>\n",
       "      <td>73</td>\n",
       "      <td>72</td>\n",
       "      <td>380000</td>\n",
       "      <td>3.0</td>\n",
       "      <td>3.0</td>\n",
       "      <td>50.0</td>\n",
       "      <td>503</td>\n",
       "      <td>50Hertz</td>\n",
       "      <td>503</td>\n",
       "      <td>110042</td>\n",
       "      <td>0.033333</td>\n",
       "      <td>0.333333</td>\n",
       "      <td>10.275</td>\n",
       "      <td>1.95</td>\n",
       "      <td>907513</td>\n",
       "      <td>SRID=4326;LINESTRING(13.1570905224719 51.82845...</td>\n",
       "      <td>3.668030</td>\n",
       "      <td>10.00009</td>\n",
       "    </tr>\n",
       "    <tr>\n",
       "      <th>67</th>\n",
       "      <td>68</td>\n",
       "      <td>37</td>\n",
       "      <td>72</td>\n",
       "      <td>380000</td>\n",
       "      <td>3.0</td>\n",
       "      <td>3.0</td>\n",
       "      <td>50.0</td>\n",
       "      <td>535 Lauchstädt - Wolmirstedt</td>\n",
       "      <td>50Hertz</td>\n",
       "      <td>535</td>\n",
       "      <td>156923</td>\n",
       "      <td>0.033333</td>\n",
       "      <td>0.333333</td>\n",
       "      <td>10.275</td>\n",
       "      <td>1.95</td>\n",
       "      <td>904160</td>\n",
       "      <td>SRID=4326;LINESTRING(11.6389126099956 52.26873...</td>\n",
       "      <td>5.230714</td>\n",
       "      <td>10.00009</td>\n",
       "    </tr>\n",
       "    <tr>\n",
       "      <th>65</th>\n",
       "      <td>66</td>\n",
       "      <td>37</td>\n",
       "      <td>75</td>\n",
       "      <td>380000</td>\n",
       "      <td>3.0</td>\n",
       "      <td>3.0</td>\n",
       "      <td>50.0</td>\n",
       "      <td>536 Klostermansfeld - Wolmirstedt</td>\n",
       "      <td>50Hertz</td>\n",
       "      <td>536</td>\n",
       "      <td>118963</td>\n",
       "      <td>0.033333</td>\n",
       "      <td>0.333333</td>\n",
       "      <td>10.275</td>\n",
       "      <td>1.95</td>\n",
       "      <td>904158</td>\n",
       "      <td>SRID=4326;LINESTRING(11.6389126099956 52.26873...</td>\n",
       "      <td>3.965394</td>\n",
       "      <td>10.00009</td>\n",
       "    </tr>\n",
       "    <tr>\n",
       "      <th>64</th>\n",
       "      <td>65</td>\n",
       "      <td>73</td>\n",
       "      <td>74</td>\n",
       "      <td>380000</td>\n",
       "      <td>3.0</td>\n",
       "      <td>3.0</td>\n",
       "      <td>50.0</td>\n",
       "      <td>501</td>\n",
       "      <td>50Hertz</td>\n",
       "      <td>501</td>\n",
       "      <td>54235</td>\n",
       "      <td>0.033333</td>\n",
       "      <td>0.333333</td>\n",
       "      <td>10.275</td>\n",
       "      <td>1.95</td>\n",
       "      <td>902597</td>\n",
       "      <td>SRID=4326;LINESTRING(13.1570905224719 51.82845...</td>\n",
       "      <td>1.807815</td>\n",
       "      <td>10.00009</td>\n",
       "    </tr>\n",
       "  </tbody>\n",
       "</table>\n",
       "</div>"
      ],
      "text/plain": [
       "     l_id  v_id_1  v_id_2  voltage  cables  wires  frequency  \\\n",
       "518   519      15     337   380000     9.0    4.0        NaN   \n",
       "835   836     520     521   380000     3.0    3.0       50.0   \n",
       "465   466     279      65   380000     3.0    3.0       50.0   \n",
       "443   444     307     311   380000     3.0    3.0       50.0   \n",
       "73     74      10      74   380000     3.0    3.0       50.0   \n",
       "71     72      18      40   380000     3.0    3.0       50.0   \n",
       "70     71      73      72   380000     3.0    3.0       50.0   \n",
       "67     68      37      72   380000     3.0    3.0       50.0   \n",
       "65     66      37      75   380000     3.0    3.0       50.0   \n",
       "64     65      73      74   380000     3.0    3.0       50.0   \n",
       "\n",
       "                                  name operator          ref  length_m  \\\n",
       "518                                NaN      NaN  443;444;446     61219   \n",
       "835                                NaN  50Hertz          578     17414   \n",
       "465                                NaN      NaN          445     81644   \n",
       "443           Kupferzell - Großgartach      NaN          NaN     47743   \n",
       "73                                 521  50Hertz          521    130600   \n",
       "71                                 509  50Hertz          509     56402   \n",
       "70                                 503  50Hertz          503    110042   \n",
       "67        535 Lauchstädt - Wolmirstedt  50Hertz          535    156923   \n",
       "65   536 Klostermansfeld - Wolmirstedt  50Hertz          536    118963   \n",
       "64                                 501  50Hertz          501     54235   \n",
       "\n",
       "      r_ohmkm   x_ohmkm  c_nfkm  i_th_max_a  from_relation  \\\n",
       "518  0.008333  0.083333  41.100        7.80        3749855   \n",
       "835  0.033333  0.333333  10.275        1.95        5308496   \n",
       "465  0.033333  0.333333  10.275        1.95        3730415   \n",
       "443  0.033333  0.333333  10.275        1.95        3694016   \n",
       "73   0.033333  0.333333  10.275        1.95         918563   \n",
       "71   0.033333  0.333333  10.275        1.95         912407   \n",
       "70   0.033333  0.333333  10.275        1.95         907513   \n",
       "67   0.033333  0.333333  10.275        1.95         904160   \n",
       "65   0.033333  0.333333  10.275        1.95         904158   \n",
       "64   0.033333  0.333333  10.275        1.95         902597   \n",
       "\n",
       "                                         wkt_srid_4326   total_r      XtoR  \n",
       "518  SRID=4326;LINESTRING(11.868156362746 48.206802...  0.510138  10.00036  \n",
       "835  SRID=4326;LINESTRING(12.881244953781 50.518645...  0.580461  10.00009  \n",
       "465  SRID=4326;LINESTRING(12.8139099558581 50.85791...  2.721439  10.00009  \n",
       "443  SRID=4326;LINESTRING(9.15135403252636 49.14338...  1.591417  10.00009  \n",
       "73   SRID=4326;LINESTRING(12.9416466491702 52.56211...  4.353290  10.00009  \n",
       "71   SRID=4326;LINESTRING(13.6834769799404 54.13909...  1.880048  10.00009  \n",
       "70   SRID=4326;LINESTRING(13.1570905224719 51.82845...  3.668030  10.00009  \n",
       "67   SRID=4326;LINESTRING(11.6389126099956 52.26873...  5.230714  10.00009  \n",
       "65   SRID=4326;LINESTRING(11.6389126099956 52.26873...  3.965394  10.00009  \n",
       "64   SRID=4326;LINESTRING(13.1570905224719 51.82845...  1.807815  10.00009  "
      ]
     },
     "execution_count": 232,
     "metadata": {},
     "output_type": "execute_result"
    }
   ],
   "source": [
    "import time\n",
    "start = time.time()\n",
    "D1=branches.sort_values(ascending=False, by='XtoR').head(10)\n",
    "print(\"%s seconds\" % (time.time() - start))\n",
    "D1"
   ]
  },
  {
   "cell_type": "code",
   "execution_count": 233,
   "metadata": {
    "collapsed": false
   },
   "outputs": [
    {
     "name": "stdout",
     "output_type": "stream",
     "text": [
      "0.0036988258361816406 seconds\n"
     ]
    },
    {
     "data": {
      "text/html": [
       "<div>\n",
       "<table border=\"1\" class=\"dataframe\">\n",
       "  <thead>\n",
       "    <tr style=\"text-align: right;\">\n",
       "      <th></th>\n",
       "      <th>l_id</th>\n",
       "      <th>XtoR</th>\n",
       "    </tr>\n",
       "  </thead>\n",
       "  <tbody>\n",
       "    <tr>\n",
       "      <th>518</th>\n",
       "      <td>519</td>\n",
       "      <td>10.00036</td>\n",
       "    </tr>\n",
       "    <tr>\n",
       "      <th>835</th>\n",
       "      <td>836</td>\n",
       "      <td>10.00009</td>\n",
       "    </tr>\n",
       "    <tr>\n",
       "      <th>465</th>\n",
       "      <td>466</td>\n",
       "      <td>10.00009</td>\n",
       "    </tr>\n",
       "    <tr>\n",
       "      <th>443</th>\n",
       "      <td>444</td>\n",
       "      <td>10.00009</td>\n",
       "    </tr>\n",
       "    <tr>\n",
       "      <th>73</th>\n",
       "      <td>74</td>\n",
       "      <td>10.00009</td>\n",
       "    </tr>\n",
       "    <tr>\n",
       "      <th>71</th>\n",
       "      <td>72</td>\n",
       "      <td>10.00009</td>\n",
       "    </tr>\n",
       "    <tr>\n",
       "      <th>70</th>\n",
       "      <td>71</td>\n",
       "      <td>10.00009</td>\n",
       "    </tr>\n",
       "    <tr>\n",
       "      <th>67</th>\n",
       "      <td>68</td>\n",
       "      <td>10.00009</td>\n",
       "    </tr>\n",
       "    <tr>\n",
       "      <th>65</th>\n",
       "      <td>66</td>\n",
       "      <td>10.00009</td>\n",
       "    </tr>\n",
       "    <tr>\n",
       "      <th>64</th>\n",
       "      <td>65</td>\n",
       "      <td>10.00009</td>\n",
       "    </tr>\n",
       "  </tbody>\n",
       "</table>\n",
       "</div>"
      ],
      "text/plain": [
       "     l_id      XtoR\n",
       "518   519  10.00036\n",
       "835   836  10.00009\n",
       "465   466  10.00009\n",
       "443   444  10.00009\n",
       "73     74  10.00009\n",
       "71     72  10.00009\n",
       "70     71  10.00009\n",
       "67     68  10.00009\n",
       "65     66  10.00009\n",
       "64     65  10.00009"
      ]
     },
     "execution_count": 233,
     "metadata": {},
     "output_type": "execute_result"
    }
   ],
   "source": [
    "start = time.time()\n",
    "D2=branches[['l_id','XtoR']].sort_values(ascending=False, by='XtoR').head(10)\n",
    "print(\"%s seconds\" % (time.time() - start))\n",
    "D2"
   ]
  },
  {
   "cell_type": "markdown",
   "metadata": {},
   "source": [
    "The lines with the 10 smallest X/R ratio are given by"
   ]
  },
  {
   "cell_type": "code",
   "execution_count": 234,
   "metadata": {
    "collapsed": false
   },
   "outputs": [
    {
     "name": "stdout",
     "output_type": "stream",
     "text": [
      "0.0031681060791015625 seconds\n"
     ]
    },
    {
     "data": {
      "text/html": [
       "<div>\n",
       "<table border=\"1\" class=\"dataframe\">\n",
       "  <thead>\n",
       "    <tr style=\"text-align: right;\">\n",
       "      <th></th>\n",
       "      <th>l_id</th>\n",
       "      <th>v_id_1</th>\n",
       "      <th>v_id_2</th>\n",
       "      <th>voltage</th>\n",
       "      <th>cables</th>\n",
       "      <th>wires</th>\n",
       "      <th>frequency</th>\n",
       "      <th>name</th>\n",
       "      <th>operator</th>\n",
       "      <th>ref</th>\n",
       "      <th>length_m</th>\n",
       "      <th>r_ohmkm</th>\n",
       "      <th>x_ohmkm</th>\n",
       "      <th>c_nfkm</th>\n",
       "      <th>i_th_max_a</th>\n",
       "      <th>from_relation</th>\n",
       "      <th>wkt_srid_4326</th>\n",
       "      <th>total_r</th>\n",
       "      <th>XtoR</th>\n",
       "    </tr>\n",
       "  </thead>\n",
       "  <tbody>\n",
       "    <tr>\n",
       "      <th>0</th>\n",
       "      <td>1</td>\n",
       "      <td>1</td>\n",
       "      <td>2</td>\n",
       "      <td>220000</td>\n",
       "      <td>3.0</td>\n",
       "      <td>2.0</td>\n",
       "      <td>50.0</td>\n",
       "      <td>Leitung 2016</td>\n",
       "      <td>TenneT</td>\n",
       "      <td>2016</td>\n",
       "      <td>43396</td>\n",
       "      <td>0.08</td>\n",
       "      <td>0.32</td>\n",
       "      <td>11.50</td>\n",
       "      <td>1.30</td>\n",
       "      <td>67129</td>\n",
       "      <td>SRID=4326;LINESTRING(9.52257601112577 52.36040...</td>\n",
       "      <td>3.47168</td>\n",
       "      <td>4.0</td>\n",
       "    </tr>\n",
       "    <tr>\n",
       "      <th>663</th>\n",
       "      <td>664</td>\n",
       "      <td>24</td>\n",
       "      <td>272</td>\n",
       "      <td>220000</td>\n",
       "      <td>3.0</td>\n",
       "      <td>1.0</td>\n",
       "      <td>50.0</td>\n",
       "      <td>NaN</td>\n",
       "      <td>TenneT</td>\n",
       "      <td>206</td>\n",
       "      <td>63332</td>\n",
       "      <td>0.16</td>\n",
       "      <td>0.64</td>\n",
       "      <td>5.75</td>\n",
       "      <td>0.65</td>\n",
       "      <td>5207200</td>\n",
       "      <td>SRID=4326;LINESTRING(9.72699275106814 54.29142...</td>\n",
       "      <td>10.13312</td>\n",
       "      <td>4.0</td>\n",
       "    </tr>\n",
       "    <tr>\n",
       "      <th>664</th>\n",
       "      <td>665</td>\n",
       "      <td>13</td>\n",
       "      <td>14</td>\n",
       "      <td>220000</td>\n",
       "      <td>3.0</td>\n",
       "      <td>2.0</td>\n",
       "      <td>50.0</td>\n",
       "      <td>Oba-Nfi II</td>\n",
       "      <td>TenneT TSO GmbH</td>\n",
       "      <td>264</td>\n",
       "      <td>39295</td>\n",
       "      <td>0.08</td>\n",
       "      <td>0.32</td>\n",
       "      <td>11.50</td>\n",
       "      <td>1.30</td>\n",
       "      <td>5247406</td>\n",
       "      <td>SRID=4326;LINESTRING(11.3704263094168 48.29149...</td>\n",
       "      <td>3.14360</td>\n",
       "      <td>4.0</td>\n",
       "    </tr>\n",
       "    <tr>\n",
       "      <th>270</th>\n",
       "      <td>271</td>\n",
       "      <td>69</td>\n",
       "      <td>215</td>\n",
       "      <td>220000</td>\n",
       "      <td>3.0</td>\n",
       "      <td>2.0</td>\n",
       "      <td>50.0</td>\n",
       "      <td>Anilin 2B</td>\n",
       "      <td>Amprion</td>\n",
       "      <td>NaN</td>\n",
       "      <td>13609</td>\n",
       "      <td>0.08</td>\n",
       "      <td>0.32</td>\n",
       "      <td>11.50</td>\n",
       "      <td>1.30</td>\n",
       "      <td>1636726</td>\n",
       "      <td>SRID=4326;LINESTRING(8.41937108566179 49.63373...</td>\n",
       "      <td>1.08872</td>\n",
       "      <td>4.0</td>\n",
       "    </tr>\n",
       "    <tr>\n",
       "      <th>267</th>\n",
       "      <td>268</td>\n",
       "      <td>69</td>\n",
       "      <td>215</td>\n",
       "      <td>220000</td>\n",
       "      <td>3.0</td>\n",
       "      <td>2.0</td>\n",
       "      <td>50.0</td>\n",
       "      <td>Anilin 1A</td>\n",
       "      <td>Amprion</td>\n",
       "      <td>NaN</td>\n",
       "      <td>13611</td>\n",
       "      <td>0.08</td>\n",
       "      <td>0.32</td>\n",
       "      <td>11.50</td>\n",
       "      <td>1.30</td>\n",
       "      <td>1636721</td>\n",
       "      <td>SRID=4326;LINESTRING(8.41937108566179 49.63373...</td>\n",
       "      <td>1.08888</td>\n",
       "      <td>4.0</td>\n",
       "    </tr>\n",
       "    <tr>\n",
       "      <th>266</th>\n",
       "      <td>267</td>\n",
       "      <td>213</td>\n",
       "      <td>214</td>\n",
       "      <td>220000</td>\n",
       "      <td>3.0</td>\n",
       "      <td>1.0</td>\n",
       "      <td>50.0</td>\n",
       "      <td>Rheinau Ost</td>\n",
       "      <td>Amprion</td>\n",
       "      <td>NaN</td>\n",
       "      <td>45094</td>\n",
       "      <td>0.16</td>\n",
       "      <td>0.64</td>\n",
       "      <td>5.75</td>\n",
       "      <td>0.65</td>\n",
       "      <td>1636720</td>\n",
       "      <td>SRID=4326;LINESTRING(8.58869053015616 49.81551...</td>\n",
       "      <td>7.21504</td>\n",
       "      <td>4.0</td>\n",
       "    </tr>\n",
       "    <tr>\n",
       "      <th>681</th>\n",
       "      <td>682</td>\n",
       "      <td>362</td>\n",
       "      <td>404</td>\n",
       "      <td>220000</td>\n",
       "      <td>3.0</td>\n",
       "      <td>2.0</td>\n",
       "      <td>50.0</td>\n",
       "      <td>NaN</td>\n",
       "      <td>NaN</td>\n",
       "      <td>NaN</td>\n",
       "      <td>15077</td>\n",
       "      <td>0.08</td>\n",
       "      <td>0.32</td>\n",
       "      <td>11.50</td>\n",
       "      <td>1.30</td>\n",
       "      <td>5716121</td>\n",
       "      <td>SRID=4326;LINESTRING(8.04936553586669 47.55087...</td>\n",
       "      <td>1.20616</td>\n",
       "      <td>4.0</td>\n",
       "    </tr>\n",
       "    <tr>\n",
       "      <th>683</th>\n",
       "      <td>684</td>\n",
       "      <td>508</td>\n",
       "      <td>509</td>\n",
       "      <td>220000</td>\n",
       "      <td>3.0</td>\n",
       "      <td>2.0</td>\n",
       "      <td>50.0</td>\n",
       "      <td>NaN</td>\n",
       "      <td>NaN</td>\n",
       "      <td>NaN</td>\n",
       "      <td>29715</td>\n",
       "      <td>0.08</td>\n",
       "      <td>0.32</td>\n",
       "      <td>11.50</td>\n",
       "      <td>1.30</td>\n",
       "      <td>5978211</td>\n",
       "      <td>SRID=4326;LINESTRING(7.97117863459035 47.54578...</td>\n",
       "      <td>2.37720</td>\n",
       "      <td>4.0</td>\n",
       "    </tr>\n",
       "    <tr>\n",
       "      <th>684</th>\n",
       "      <td>685</td>\n",
       "      <td>362</td>\n",
       "      <td>508</td>\n",
       "      <td>220000</td>\n",
       "      <td>3.0</td>\n",
       "      <td>2.0</td>\n",
       "      <td>50.0</td>\n",
       "      <td>NaN</td>\n",
       "      <td>NaN</td>\n",
       "      <td>NaN</td>\n",
       "      <td>6386</td>\n",
       "      <td>0.08</td>\n",
       "      <td>0.32</td>\n",
       "      <td>11.50</td>\n",
       "      <td>1.30</td>\n",
       "      <td>5978214</td>\n",
       "      <td>SRID=4326;LINESTRING(8.04936553586669 47.55087...</td>\n",
       "      <td>0.51088</td>\n",
       "      <td>4.0</td>\n",
       "    </tr>\n",
       "    <tr>\n",
       "      <th>273</th>\n",
       "      <td>274</td>\n",
       "      <td>213</td>\n",
       "      <td>214</td>\n",
       "      <td>220000</td>\n",
       "      <td>3.0</td>\n",
       "      <td>2.0</td>\n",
       "      <td>50.0</td>\n",
       "      <td>Rheinau West</td>\n",
       "      <td>Amprion</td>\n",
       "      <td>NaN</td>\n",
       "      <td>45094</td>\n",
       "      <td>0.08</td>\n",
       "      <td>0.32</td>\n",
       "      <td>11.50</td>\n",
       "      <td>1.30</td>\n",
       "      <td>1636737</td>\n",
       "      <td>SRID=4326;LINESTRING(8.58869053015616 49.81551...</td>\n",
       "      <td>3.60752</td>\n",
       "      <td>4.0</td>\n",
       "    </tr>\n",
       "  </tbody>\n",
       "</table>\n",
       "</div>"
      ],
      "text/plain": [
       "     l_id  v_id_1  v_id_2  voltage  cables  wires  frequency          name  \\\n",
       "0       1       1       2   220000     3.0    2.0       50.0  Leitung 2016   \n",
       "663   664      24     272   220000     3.0    1.0       50.0           NaN   \n",
       "664   665      13      14   220000     3.0    2.0       50.0    Oba-Nfi II   \n",
       "270   271      69     215   220000     3.0    2.0       50.0     Anilin 2B   \n",
       "267   268      69     215   220000     3.0    2.0       50.0     Anilin 1A   \n",
       "266   267     213     214   220000     3.0    1.0       50.0   Rheinau Ost   \n",
       "681   682     362     404   220000     3.0    2.0       50.0           NaN   \n",
       "683   684     508     509   220000     3.0    2.0       50.0           NaN   \n",
       "684   685     362     508   220000     3.0    2.0       50.0           NaN   \n",
       "273   274     213     214   220000     3.0    2.0       50.0  Rheinau West   \n",
       "\n",
       "            operator   ref  length_m  r_ohmkm  x_ohmkm  c_nfkm  i_th_max_a  \\\n",
       "0             TenneT  2016     43396     0.08     0.32   11.50        1.30   \n",
       "663           TenneT   206     63332     0.16     0.64    5.75        0.65   \n",
       "664  TenneT TSO GmbH   264     39295     0.08     0.32   11.50        1.30   \n",
       "270          Amprion   NaN     13609     0.08     0.32   11.50        1.30   \n",
       "267          Amprion   NaN     13611     0.08     0.32   11.50        1.30   \n",
       "266          Amprion   NaN     45094     0.16     0.64    5.75        0.65   \n",
       "681              NaN   NaN     15077     0.08     0.32   11.50        1.30   \n",
       "683              NaN   NaN     29715     0.08     0.32   11.50        1.30   \n",
       "684              NaN   NaN      6386     0.08     0.32   11.50        1.30   \n",
       "273          Amprion   NaN     45094     0.08     0.32   11.50        1.30   \n",
       "\n",
       "     from_relation                                      wkt_srid_4326  \\\n",
       "0            67129  SRID=4326;LINESTRING(9.52257601112577 52.36040...   \n",
       "663        5207200  SRID=4326;LINESTRING(9.72699275106814 54.29142...   \n",
       "664        5247406  SRID=4326;LINESTRING(11.3704263094168 48.29149...   \n",
       "270        1636726  SRID=4326;LINESTRING(8.41937108566179 49.63373...   \n",
       "267        1636721  SRID=4326;LINESTRING(8.41937108566179 49.63373...   \n",
       "266        1636720  SRID=4326;LINESTRING(8.58869053015616 49.81551...   \n",
       "681        5716121  SRID=4326;LINESTRING(8.04936553586669 47.55087...   \n",
       "683        5978211  SRID=4326;LINESTRING(7.97117863459035 47.54578...   \n",
       "684        5978214  SRID=4326;LINESTRING(8.04936553586669 47.55087...   \n",
       "273        1636737  SRID=4326;LINESTRING(8.58869053015616 49.81551...   \n",
       "\n",
       "      total_r  XtoR  \n",
       "0     3.47168   4.0  \n",
       "663  10.13312   4.0  \n",
       "664   3.14360   4.0  \n",
       "270   1.08872   4.0  \n",
       "267   1.08888   4.0  \n",
       "266   7.21504   4.0  \n",
       "681   1.20616   4.0  \n",
       "683   2.37720   4.0  \n",
       "684   0.51088   4.0  \n",
       "273   3.60752   4.0  "
      ]
     },
     "execution_count": 234,
     "metadata": {},
     "output_type": "execute_result"
    }
   ],
   "source": [
    "start = time.time()\n",
    "D3=branches.sort_values(ascending=True, by='XtoR').head(10)\n",
    "print(\"%s seconds\" % (time.time() - start))\n",
    "D3"
   ]
  },
  {
   "cell_type": "code",
   "execution_count": 235,
   "metadata": {
    "collapsed": false
   },
   "outputs": [
    {
     "name": "stdout",
     "output_type": "stream",
     "text": [
      "0.003247499465942383 seconds\n"
     ]
    },
    {
     "data": {
      "text/html": [
       "<div>\n",
       "<table border=\"1\" class=\"dataframe\">\n",
       "  <thead>\n",
       "    <tr style=\"text-align: right;\">\n",
       "      <th></th>\n",
       "      <th>l_id</th>\n",
       "      <th>XtoR</th>\n",
       "    </tr>\n",
       "  </thead>\n",
       "  <tbody>\n",
       "    <tr>\n",
       "      <th>0</th>\n",
       "      <td>1</td>\n",
       "      <td>4.0</td>\n",
       "    </tr>\n",
       "    <tr>\n",
       "      <th>663</th>\n",
       "      <td>664</td>\n",
       "      <td>4.0</td>\n",
       "    </tr>\n",
       "    <tr>\n",
       "      <th>664</th>\n",
       "      <td>665</td>\n",
       "      <td>4.0</td>\n",
       "    </tr>\n",
       "    <tr>\n",
       "      <th>270</th>\n",
       "      <td>271</td>\n",
       "      <td>4.0</td>\n",
       "    </tr>\n",
       "    <tr>\n",
       "      <th>267</th>\n",
       "      <td>268</td>\n",
       "      <td>4.0</td>\n",
       "    </tr>\n",
       "    <tr>\n",
       "      <th>266</th>\n",
       "      <td>267</td>\n",
       "      <td>4.0</td>\n",
       "    </tr>\n",
       "    <tr>\n",
       "      <th>681</th>\n",
       "      <td>682</td>\n",
       "      <td>4.0</td>\n",
       "    </tr>\n",
       "    <tr>\n",
       "      <th>683</th>\n",
       "      <td>684</td>\n",
       "      <td>4.0</td>\n",
       "    </tr>\n",
       "    <tr>\n",
       "      <th>684</th>\n",
       "      <td>685</td>\n",
       "      <td>4.0</td>\n",
       "    </tr>\n",
       "    <tr>\n",
       "      <th>273</th>\n",
       "      <td>274</td>\n",
       "      <td>4.0</td>\n",
       "    </tr>\n",
       "  </tbody>\n",
       "</table>\n",
       "</div>"
      ],
      "text/plain": [
       "     l_id  XtoR\n",
       "0       1   4.0\n",
       "663   664   4.0\n",
       "664   665   4.0\n",
       "270   271   4.0\n",
       "267   268   4.0\n",
       "266   267   4.0\n",
       "681   682   4.0\n",
       "683   684   4.0\n",
       "684   685   4.0\n",
       "273   274   4.0"
      ]
     },
     "execution_count": 235,
     "metadata": {},
     "output_type": "execute_result"
    }
   ],
   "source": [
    "start = time.time()\n",
    "D4=branches[['l_id','XtoR']].sort_values(ascending=True, by='XtoR').head(10)\n",
    "print(\"%s seconds\" % (time.time() - start))\n",
    "D4"
   ]
  },
  {
   "cell_type": "markdown",
   "metadata": {},
   "source": [
    "Adding a column with lines' total impedance (z_ohm)"
   ]
  },
  {
   "cell_type": "code",
   "execution_count": 236,
   "metadata": {
    "collapsed": false
   },
   "outputs": [],
   "source": [
    "branches['z_ohm'] = ((branches['x_ohmkm'].pow(2) + branches['r_ohmkm'].pow(2)).pow(1./2)) * branches['length_m'] / 1000"
   ]
  },
  {
   "cell_type": "markdown",
   "metadata": {},
   "source": [
    "The maximum line impedance is"
   ]
  },
  {
   "cell_type": "code",
   "execution_count": 237,
   "metadata": {
    "collapsed": false
   },
   "outputs": [
    {
     "data": {
      "text/plain": [
       "104.68004441078158"
      ]
     },
     "execution_count": 237,
     "metadata": {},
     "output_type": "execute_result"
    }
   ],
   "source": [
    "max_Z=branches['z_ohm'].max()\n",
    "max_Z"
   ]
  },
  {
   "cell_type": "markdown",
   "metadata": {},
   "source": [
    "The line with the maximum total impedance is"
   ]
  },
  {
   "cell_type": "code",
   "execution_count": 238,
   "metadata": {
    "collapsed": false
   },
   "outputs": [
    {
     "data": {
      "text/html": [
       "<div>\n",
       "<table border=\"1\" class=\"dataframe\">\n",
       "  <thead>\n",
       "    <tr style=\"text-align: right;\">\n",
       "      <th></th>\n",
       "      <th>l_id</th>\n",
       "      <th>v_id_1</th>\n",
       "      <th>v_id_2</th>\n",
       "      <th>voltage</th>\n",
       "      <th>cables</th>\n",
       "      <th>wires</th>\n",
       "      <th>frequency</th>\n",
       "      <th>name</th>\n",
       "      <th>operator</th>\n",
       "      <th>ref</th>\n",
       "      <th>length_m</th>\n",
       "      <th>r_ohmkm</th>\n",
       "      <th>x_ohmkm</th>\n",
       "      <th>c_nfkm</th>\n",
       "      <th>i_th_max_a</th>\n",
       "      <th>from_relation</th>\n",
       "      <th>wkt_srid_4326</th>\n",
       "      <th>total_r</th>\n",
       "      <th>XtoR</th>\n",
       "      <th>z_ohm</th>\n",
       "    </tr>\n",
       "  </thead>\n",
       "  <tbody>\n",
       "    <tr>\n",
       "      <th>495</th>\n",
       "      <td>496</td>\n",
       "      <td>282</td>\n",
       "      <td>342</td>\n",
       "      <td>220000</td>\n",
       "      <td>3.0</td>\n",
       "      <td>1.0</td>\n",
       "      <td>NaN</td>\n",
       "      <td>NaN</td>\n",
       "      <td>50Hertz</td>\n",
       "      <td>358</td>\n",
       "      <td>158679</td>\n",
       "      <td>0.16</td>\n",
       "      <td>0.64</td>\n",
       "      <td>5.75</td>\n",
       "      <td>0.65</td>\n",
       "      <td>3739954</td>\n",
       "      <td>SRID=4326;LINESTRING(12.518222136544 51.157072...</td>\n",
       "      <td>25.38864</td>\n",
       "      <td>4.0</td>\n",
       "      <td>104.680044</td>\n",
       "    </tr>\n",
       "  </tbody>\n",
       "</table>\n",
       "</div>"
      ],
      "text/plain": [
       "     l_id  v_id_1  v_id_2  voltage  cables  wires  frequency name operator  \\\n",
       "495   496     282     342   220000     3.0    1.0        NaN  NaN  50Hertz   \n",
       "\n",
       "     ref  length_m  r_ohmkm  x_ohmkm  c_nfkm  i_th_max_a  from_relation  \\\n",
       "495  358    158679     0.16     0.64    5.75        0.65        3739954   \n",
       "\n",
       "                                         wkt_srid_4326   total_r  XtoR  \\\n",
       "495  SRID=4326;LINESTRING(12.518222136544 51.157072...  25.38864   4.0   \n",
       "\n",
       "          z_ohm  \n",
       "495  104.680044  "
      ]
     },
     "execution_count": 238,
     "metadata": {},
     "output_type": "execute_result"
    }
   ],
   "source": [
    "branches[branches['z_ohm'] == max_Z]"
   ]
  },
  {
   "cell_type": "code",
   "execution_count": null,
   "metadata": {
    "collapsed": true
   },
   "outputs": [],
   "source": []
  }
 ],
 "metadata": {
  "anaconda-cloud": {},
  "kernelspec": {
   "display_name": "Python [default]",
   "language": "python",
   "name": "python3"
  },
  "language_info": {
   "codemirror_mode": {
    "name": "ipython",
    "version": 3
   },
   "file_extension": ".py",
   "mimetype": "text/x-python",
   "name": "python",
   "nbconvert_exporter": "python",
   "pygments_lexer": "ipython3",
   "version": "3.5.2"
  }
 },
 "nbformat": 4,
 "nbformat_minor": 2
}
