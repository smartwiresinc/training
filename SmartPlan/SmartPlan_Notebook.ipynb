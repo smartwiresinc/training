{
 "cells": [
  {
   "cell_type": "markdown",
   "metadata": {},
   "source": [
    "# SmartPlan Notebook\n",
    "## The study request and Base Cases are available on Box\n",
    "* Study request: https://smartwires.app.box.com/folder/48021809487\n",
    "* Base cases: https://smartwires.app.box.com/folder/47866172416\n",
    "* Contingency files: https://smartwires.app.box.com/file/283783912868 "
   ]
  },
  {
   "cell_type": "markdown",
   "metadata": {},
   "source": [
    "## The following libraries are required in this notebook:"
   ]
  },
  {
   "cell_type": "code",
   "execution_count": 1,
   "metadata": {
    "scrolled": false
   },
   "outputs": [],
   "source": [
    "import os\n",
    "from bson import ObjectId\n",
    "import pandas as pd\n",
    "import numpy as np\n",
    "from IPython.display import display, HTML, Image\n",
    "from bson import ObjectId\n",
    "import Khufu_lib as kl\n",
    "import chariot as ch\n"
   ]
  },
  {
   "cell_type": "markdown",
   "metadata": {},
   "source": [
    "## Working directory"
   ]
  },
  {
   "cell_type": "code",
   "execution_count": null,
   "metadata": {},
   "outputs": [],
   "source": [
    "wd = r'C:\\Users\\hamid.Elyas\\Desktop\\SmartPlan'"
   ]
  },
  {
   "cell_type": "markdown",
   "metadata": {},
   "source": [
    "## Connect to database"
   ]
  },
  {
   "cell_type": "code",
   "execution_count": 35,
   "metadata": {},
   "outputs": [],
   "source": [
    "server = kl.mongodb_connect('localhost')#IP = ('192.168.15.54')\n",
    "db = server['ProjectName']"
   ]
  },
  {
   "cell_type": "markdown",
   "metadata": {},
   "source": [
    "## Submit Investment_Catalog to database\n",
    "#### conductor_types.csv and sw_devices.csv are two files that should be stored in database \n",
    "* Note: Check the ObjectId in collections for both files:\n",
    "* sw_device.files: ObjectId(\"59180d46d84e520acc2fba09\")\n",
    "* conductor.files: ObjectId(\"59180d19d84e520acc2fba07\")"
   ]
  },
  {
   "cell_type": "code",
   "execution_count": 33,
   "metadata": {},
   "outputs": [],
   "source": [
    "# This cell should be run one-time only\n",
    "server = kl.mongodb_connect('localhost')\n",
    "db = server['Investment_Catalog']\n",
    "data = {\n",
    "       'conductor': [{'filename': 'conductor_types.csv'}],\n",
    "       'sw_device': [{'filename':'sw_devices.csv' }]\n",
    "       }\n",
    "kl.submit_data(db, data, wd)"
   ]
  },
  {
   "cell_type": "markdown",
   "metadata": {},
   "source": [
    "## Submit Data to database\n",
    "* commander.csv file contains the list of projects and required files. \n",
    "* Using column [include] we have control on the number of projects which should be run."
   ]
  },
  {
   "cell_type": "code",
   "execution_count": 2,
   "metadata": {
    "scrolled": true
   },
   "outputs": [
    {
     "data": {
      "text/html": [
       "<div>\n",
       "<style scoped>\n",
       "    .dataframe tbody tr th:only-of-type {\n",
       "        vertical-align: middle;\n",
       "    }\n",
       "\n",
       "    .dataframe tbody tr th {\n",
       "        vertical-align: top;\n",
       "    }\n",
       "\n",
       "    .dataframe thead th {\n",
       "        text-align: right;\n",
       "    }\n",
       "</style>\n",
       "<table border=\"1\" class=\"dataframe\">\n",
       "  <thead>\n",
       "    <tr style=\"text-align: right;\">\n",
       "      <th></th>\n",
       "      <th>index</th>\n",
       "      <th>case</th>\n",
       "      <th>case_index</th>\n",
       "      <th>con</th>\n",
       "      <th>mon</th>\n",
       "      <th>study</th>\n",
       "      <th>invest_option</th>\n",
       "      <th>include</th>\n",
       "      <th>comment</th>\n",
       "    </tr>\n",
       "  </thead>\n",
       "  <tbody>\n",
       "    <tr>\n",
       "      <th>0</th>\n",
       "      <td>1</td>\n",
       "      <td>2020_Min_NAal_GSal_N.raw</td>\n",
       "      <td>1</td>\n",
       "      <td>2020_1.con</td>\n",
       "      <td>2020_1.mon</td>\n",
       "      <td>2020_1_opt</td>\n",
       "      <td>inv_opt_2020_13.csv</td>\n",
       "      <td>N</td>\n",
       "      <td>NaN</td>\n",
       "    </tr>\n",
       "    <tr>\n",
       "      <th>1</th>\n",
       "      <td>2</td>\n",
       "      <td>2020_Min_NAal_GSal_PCH_N.raw</td>\n",
       "      <td>2</td>\n",
       "      <td>2020_2.con</td>\n",
       "      <td>2020_2.mon</td>\n",
       "      <td>2020_2_opt</td>\n",
       "      <td>inv_opt_2020_2.csv</td>\n",
       "      <td>N</td>\n",
       "      <td>NaN</td>\n",
       "    </tr>\n",
       "    <tr>\n",
       "      <th>2</th>\n",
       "      <td>3</td>\n",
       "      <td>2020_Min_NAal_GSal_PCH_Y.raw</td>\n",
       "      <td>5</td>\n",
       "      <td>2020_5.con</td>\n",
       "      <td>2020_5.mon</td>\n",
       "      <td>NaN</td>\n",
       "      <td>NaN</td>\n",
       "      <td>N</td>\n",
       "      <td>loading less than 100</td>\n",
       "    </tr>\n",
       "    <tr>\n",
       "      <th>3</th>\n",
       "      <td>4</td>\n",
       "      <td>2022_Min_NAal_GSal_N.raw</td>\n",
       "      <td>1</td>\n",
       "      <td>2022_1.con</td>\n",
       "      <td>2022_1.mon</td>\n",
       "      <td>2022_1_opt</td>\n",
       "      <td>inv_opt_2022_124.csv</td>\n",
       "      <td>N</td>\n",
       "      <td>NaN</td>\n",
       "    </tr>\n",
       "    <tr>\n",
       "      <th>4</th>\n",
       "      <td>5</td>\n",
       "      <td>2022_Min_NAal_GSal_PCH_N.raw</td>\n",
       "      <td>2</td>\n",
       "      <td>2022_2.con</td>\n",
       "      <td>2022_2.mon</td>\n",
       "      <td>2022_2_opt</td>\n",
       "      <td>inv_opt_2022_124.csv</td>\n",
       "      <td>N</td>\n",
       "      <td>NaN</td>\n",
       "    </tr>\n",
       "    <tr>\n",
       "      <th>5</th>\n",
       "      <td>6</td>\n",
       "      <td>2022_Max_NAba_GSal_Y.raw</td>\n",
       "      <td>3</td>\n",
       "      <td>2022_3.con</td>\n",
       "      <td>2022_3.mon</td>\n",
       "      <td>2022_3_opt</td>\n",
       "      <td>inv_opt_2022_3.csv</td>\n",
       "      <td>N</td>\n",
       "      <td>NaN</td>\n",
       "    </tr>\n",
       "    <tr>\n",
       "      <th>6</th>\n",
       "      <td>7</td>\n",
       "      <td>2025_Min_NAal_GSal_N.raw</td>\n",
       "      <td>1</td>\n",
       "      <td>2025_1.con</td>\n",
       "      <td>2025_1.mon</td>\n",
       "      <td>2025_1_opt</td>\n",
       "      <td>inv_opt_2025_12.csv</td>\n",
       "      <td>N</td>\n",
       "      <td>NaN</td>\n",
       "    </tr>\n",
       "    <tr>\n",
       "      <th>7</th>\n",
       "      <td>8</td>\n",
       "      <td>2025_Min_NAal_GSal_PCH_N.raw</td>\n",
       "      <td>2</td>\n",
       "      <td>2025_1.con</td>\n",
       "      <td>2025_1.mon</td>\n",
       "      <td>2025_2_opt</td>\n",
       "      <td>inv_opt_2025_12.csv</td>\n",
       "      <td>Y</td>\n",
       "      <td>NaN</td>\n",
       "    </tr>\n",
       "    <tr>\n",
       "      <th>8</th>\n",
       "      <td>9</td>\n",
       "      <td>2025_Max_NAba_GSal_Y.raw</td>\n",
       "      <td>3</td>\n",
       "      <td>2025_3.con</td>\n",
       "      <td>2025_3.mon</td>\n",
       "      <td>2025_3_opt</td>\n",
       "      <td>inv_opt_2025_3.csv</td>\n",
       "      <td>N</td>\n",
       "      <td>NaN</td>\n",
       "    </tr>\n",
       "    <tr>\n",
       "      <th>9</th>\n",
       "      <td>10</td>\n",
       "      <td>2030_Min_NAal_GSal_N.raw</td>\n",
       "      <td>1</td>\n",
       "      <td>2030_1.con</td>\n",
       "      <td>2030_1.mon</td>\n",
       "      <td>2030_1_opt</td>\n",
       "      <td>inv_opt_2025_12.csv</td>\n",
       "      <td>N</td>\n",
       "      <td>NaN</td>\n",
       "    </tr>\n",
       "    <tr>\n",
       "      <th>10</th>\n",
       "      <td>11</td>\n",
       "      <td>2030_Min_NAal_GSal_PCH_N.raw</td>\n",
       "      <td>2</td>\n",
       "      <td>2030_2.con</td>\n",
       "      <td>2030_2.mon</td>\n",
       "      <td>2030_2_opt</td>\n",
       "      <td>inv_opt_2025_12.csv</td>\n",
       "      <td>N</td>\n",
       "      <td>NaN</td>\n",
       "    </tr>\n",
       "    <tr>\n",
       "      <th>11</th>\n",
       "      <td>12</td>\n",
       "      <td>2030_Max_NAba_GSal_Y.raw</td>\n",
       "      <td>3</td>\n",
       "      <td>2030_3.con</td>\n",
       "      <td>2030_3.mon</td>\n",
       "      <td>2030_3_opt</td>\n",
       "      <td>inv_opt_2025_3.csv</td>\n",
       "      <td>N</td>\n",
       "      <td>NaN</td>\n",
       "    </tr>\n",
       "  </tbody>\n",
       "</table>\n",
       "</div>"
      ],
      "text/plain": [
       "    index                          case  case_index         con         mon  \\\n",
       "0       1      2020_Min_NAal_GSal_N.raw           1  2020_1.con  2020_1.mon   \n",
       "1       2  2020_Min_NAal_GSal_PCH_N.raw           2  2020_2.con  2020_2.mon   \n",
       "2       3  2020_Min_NAal_GSal_PCH_Y.raw           5  2020_5.con  2020_5.mon   \n",
       "3       4      2022_Min_NAal_GSal_N.raw           1  2022_1.con  2022_1.mon   \n",
       "4       5  2022_Min_NAal_GSal_PCH_N.raw           2  2022_2.con  2022_2.mon   \n",
       "5       6      2022_Max_NAba_GSal_Y.raw           3  2022_3.con  2022_3.mon   \n",
       "6       7      2025_Min_NAal_GSal_N.raw           1  2025_1.con  2025_1.mon   \n",
       "7       8  2025_Min_NAal_GSal_PCH_N.raw           2  2025_1.con  2025_1.mon   \n",
       "8       9      2025_Max_NAba_GSal_Y.raw           3  2025_3.con  2025_3.mon   \n",
       "9      10      2030_Min_NAal_GSal_N.raw           1  2030_1.con  2030_1.mon   \n",
       "10     11  2030_Min_NAal_GSal_PCH_N.raw           2  2030_2.con  2030_2.mon   \n",
       "11     12      2030_Max_NAba_GSal_Y.raw           3  2030_3.con  2030_3.mon   \n",
       "\n",
       "         study         invest_option include                comment  \n",
       "0   2020_1_opt   inv_opt_2020_13.csv       N                    NaN  \n",
       "1   2020_2_opt    inv_opt_2020_2.csv       N                    NaN  \n",
       "2          NaN                   NaN       N  loading less than 100  \n",
       "3   2022_1_opt  inv_opt_2022_124.csv       N                    NaN  \n",
       "4   2022_2_opt  inv_opt_2022_124.csv       N                    NaN  \n",
       "5   2022_3_opt    inv_opt_2022_3.csv       N                    NaN  \n",
       "6   2025_1_opt   inv_opt_2025_12.csv       N                    NaN  \n",
       "7   2025_2_opt   inv_opt_2025_12.csv       Y                    NaN  \n",
       "8   2025_3_opt    inv_opt_2025_3.csv       N                    NaN  \n",
       "9   2030_1_opt   inv_opt_2025_12.csv       N                    NaN  \n",
       "10  2030_2_opt   inv_opt_2025_12.csv       N                    NaN  \n",
       "11  2030_3_opt    inv_opt_2025_3.csv       N                    NaN  "
      ]
     },
     "metadata": {},
     "output_type": "display_data"
    }
   ],
   "source": [
    "projects = pd.read_csv(os.path.join(wd, 'commander.csv'))\n",
    "display(projects)"
   ]
  },
  {
   "cell_type": "code",
   "execution_count": 37,
   "metadata": {},
   "outputs": [],
   "source": [
    "for x in range(len(projects)):\n",
    "    if projects['include'][x] == 'Y':\n",
    "        data = {\n",
    "            'case': [{'filename': projects['case'][x]}],\n",
    "            'con': [{'filename': projects['con'][x]}],\n",
    "            'mon': [{'filename': projects['mon'][x]}],\n",
    "            'invOpt': [{'filename': projects['invest_option'][x]}]\n",
    "            }\n",
    "        kl.submit_data(db, data, wd)"
   ]
  },
  {
   "cell_type": "markdown",
   "metadata": {},
   "source": [
    "## N-1 Replication"
   ]
  },
  {
   "cell_type": "code",
   "execution_count": null,
   "metadata": {},
   "outputs": [],
   "source": [
    "s = projects[projects.include == 'Y']\n",
    "\n",
    "for i in range(len(s)):\n",
    "    if not s.run.iloc[i]:\n",
    "        continue\n",
    "    db.studies.delete_one({'name' : s.name.iloc[i]})\n",
    "    study = {\n",
    "        'study': {\n",
    "            'name': s.name.iloc[i],\n",
    "            'status': 'incomplete',\n",
    "            'type': 'n1'\n",
    "        },\n",
    "        'settings': {\n",
    "            \"tara_version\": \"1702\",\n",
    "            \"loading_cutoff\": \"90\",\n",
    "            \"contRating\" : \"2\"\n",
    "        },\n",
    "        'criteria': {\n",
    "            'case': {\n",
    "                'filename': s.case.iloc[i]\n",
    "            },\n",
    "            'con': {\n",
    "                'filename': s.con.iloc[i]\n",
    "            }\n",
    "        }\n",
    "    }\n",
    "    if type(s.inch.iloc[i]) == str:\n",
    "        study['criteria'].update({'inch':{'filename': s.inch.iloc[i]}})\n",
    "        \n",
    "    kl.build_study(db, study)"
   ]
  },
  {
   "cell_type": "markdown",
   "metadata": {},
   "source": [
    "## Filter the obtained results"
   ]
  },
  {
   "cell_type": "code",
   "execution_count": null,
   "metadata": {},
   "outputs": [],
   "source": [
    "kl.get_study_results(db, wd)\n",
    "s = studies[studies.type == 'n1']\n",
    "\n",
    "for i in range(len(s)):\n",
    "    name = s.name.iloc[i]\n",
    "    if not s.run.iloc[i]:\n",
    "        continue\n",
    "    print name\n",
    "    \n",
    "    ss = db.studies.find_one({'name' :name})\n",
    "    if ss is None:\n",
    "        continue\n",
    "    if ss['status'] != 'complete':\n",
    "        continue\n",
    "        \n",
    "    # Read in raw results\n",
    "    n1 = pd.read_csv(os.path.join(wd,  name, 'n1_thermal.csv'))\n",
    "    # Filter to the lines we care about\n",
    "    n1['ACLoad'] = pd.to_numeric(n1['ACLoad'], errors='coerce')\n",
    "    n1 = n1[['FrmName', 'FrmBus', 'ToName', 'ToBus', 'Ckt', 'kVs', 'Ctg', 'CtgRate', 'ACLoad']]\n",
    "    # Display the worst loading scenario for each facility \n",
    "    display(HTML('<h2>{}<h2>'.format(name)))\n",
    "    display(n1[n1.ACLoad > 100].head())"
   ]
  },
  {
   "cell_type": "markdown",
   "metadata": {},
   "source": [
    "## Optimization"
   ]
  },
  {
   "cell_type": "code",
   "execution_count": 38,
   "metadata": {},
   "outputs": [],
   "source": [
    "db.studies.delete_many({})\n",
    "\n",
    "for x in range(len(projects)):\n",
    "    if studies['include'][x] == 'Y':\n",
    "        opt_study = {\n",
    "                    'study':{\n",
    "                            'name': studies['study'][x],\n",
    "                            'status': 'incomplete',\n",
    "                            'type': 'optimization'\n",
    "                            },\n",
    "                    'settings':{\n",
    "                                \"tara_version\": \"1702\",\n",
    "                                \"secure_to_percent\": \"99\",\n",
    "                                \"loading_cutoff\": \"30\",\n",
    "                                \"gbrt_kappa\": \"1.96\",\n",
    "                                \"gbrt_n_random_starts\": \"15\",\n",
    "                                \"gbrt_n_calls\": \"100\",\n",
    "                                \"ctgPenalty\": \"250000\"\n",
    "                                },\n",
    "                    'criteria':{\n",
    "                                'case': {'filename': projects['case'][x]},\n",
    "                                'con': {'filename': projects['con'][x]},\n",
    "                                'mon': {'filename': projects['mon'][x]},\n",
    "                                'invOpt': {'filename': projects['invest_option'][x]}\n",
    "                                }\n",
    "                     }\n",
    "\n",
    "        kl.build_study(db, opt_study)"
   ]
  },
  {
   "cell_type": "code",
   "execution_count": 20,
   "metadata": {},
   "outputs": [],
   "source": [
    "# Download the results\n",
    "kl.get_study_results(db, wd)\n",
    "# The optained results can be filtered "
   ]
  }
 ],
 "metadata": {
  "kernelspec": {
   "display_name": "Python 2",
   "language": "python",
   "name": "python2"
  },
  "language_info": {
   "codemirror_mode": {
    "name": "ipython",
    "version": 2
   },
   "file_extension": ".py",
   "mimetype": "text/x-python",
   "name": "python",
   "nbconvert_exporter": "python",
   "pygments_lexer": "ipython2",
   "version": "2.7.14"
  }
 },
 "nbformat": 4,
 "nbformat_minor": 2
}
